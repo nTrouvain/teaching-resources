{
  "nbformat": 4,
  "nbformat_minor": 0,
  "metadata": {
    "colab": {
      "provenance": []
    },
    "kernelspec": {
      "name": "python3",
      "display_name": "Python 3"
    },
    "language_info": {
      "name": "python"
    }
  },
  "cells": [
    {
      "cell_type": "markdown",
      "source": [
        "# TD6 - Understanding gradient descent for multilayer perceptron\n",
        "\n",
        "In the following notebook, we will cover error backpropagation and gradient descent in a multilayer perceptron **from scratch**.\n",
        "\n",
        "The task we will try to solve is quite easy: Given a 2-dimensional variable vector $\\mathbf{x} = (x_1, x_2)$, can be assign a binary class label (0 or 1) to each of the two vectors clusters?\n",
        "\n",
        "We will start with moon-shaped clusters, but feel free to try out other types of distributions (you can find some of them in `sklearn.datasets`.)"
      ],
      "metadata": {
        "id": "ClkHm8RjU-JT"
      }
    },
    {
      "cell_type": "code",
      "execution_count": null,
      "metadata": {
        "id": "8QPkTYw5Vsdi"
      },
      "outputs": [],
      "source": [
        "import numpy as np\n",
        "import matplotlib.pyplot as plt\n",
        "import scipy\n",
        "import seaborn as sns\n",
        "import pandas as pd\n",
        "import sklearn\n",
        "import sklearn.datasets\n",
        "from sklearn.datasets import make_moons, make_circles, make_blobs\n",
        "from sklearn.model_selection import train_test_split\n",
        "\n",
        "%matplotlib inline"
      ]
    },
    {
      "cell_type": "code",
      "source": [
        "#X, y = make_circles(n_samples=1_000, factor=0.3, noise=0.05, random_state=0)\n",
        "X, y = make_moons(n_samples=1000, noise=0.05, random_state=0)\n",
        "X_train, X_test, y_train, y_test = train_test_split(X, y, stratify=y, random_state=0)\n",
        "\n",
        "y_train = y_train.reshape(-1, 1)\n",
        "\n",
        "print(X.shape)\n",
        "print(y.shape)\n",
        "print(y)"
      ],
      "metadata": {
        "id": "39Sy3OPxWToq",
        "colab": {
          "base_uri": "https://localhost:8080/"
        },
        "outputId": "f1af3506-e55a-478b-8e1b-8a6c82605a21"
      },
      "execution_count": null,
      "outputs": [
        {
          "output_type": "stream",
          "name": "stdout",
          "text": [
            "(1000, 2)\n",
            "(1000,)\n",
            "[1 1 0 1 1 1 0 0 0 1 0 1 1 0 1 0 1 0 0 0 0 0 0 0 1 1 0 0 1 0 1 1 1 1 0 1 1\n",
            " 0 1 0 0 1 1 1 0 1 1 0 0 1 0 0 0 0 1 1 0 0 1 0 1 1 0 0 0 0 0 1 0 1 1 0 1 0\n",
            " 1 0 0 1 1 1 0 0 0 1 1 1 0 1 0 1 0 0 1 0 1 0 1 0 0 1 1 1 0 1 0 1 1 1 1 0 0\n",
            " 1 0 1 0 0 1 0 0 1 1 1 0 1 0 1 0 0 1 1 0 1 1 1 1 1 0 0 1 1 0 1 1 0 0 0 0 0\n",
            " 0 0 0 0 0 1 1 1 0 0 1 0 1 1 1 1 1 0 0 1 0 0 1 1 0 1 0 1 0 1 1 0 1 1 0 0 1\n",
            " 1 1 0 1 0 1 1 0 0 1 1 1 0 1 0 1 1 0 1 1 1 1 1 1 1 0 1 0 1 1 1 0 0 0 1 1 1\n",
            " 1 0 0 0 1 1 0 0 1 0 1 1 0 0 1 0 1 0 1 0 0 0 1 0 0 0 0 1 0 1 0 1 0 1 1 0 1\n",
            " 0 1 1 0 0 1 1 1 0 0 0 1 1 0 0 1 1 1 1 0 0 1 0 0 1 1 0 1 1 0 0 1 0 1 1 1 0\n",
            " 1 1 0 0 0 0 0 0 0 0 1 1 0 1 1 1 1 0 1 0 0 0 0 0 0 1 1 0 0 0 0 1 0 1 1 1 0\n",
            " 1 0 0 0 1 0 1 1 0 0 0 0 0 0 0 0 1 0 1 0 1 1 1 0 1 1 0 0 0 0 0 0 0 1 0 0 0\n",
            " 1 0 0 1 0 0 1 1 0 0 1 0 0 1 1 1 1 0 0 1 1 0 0 1 0 0 0 0 1 0 1 0 1 0 1 1 0\n",
            " 0 1 1 1 0 1 1 0 0 0 0 0 0 1 1 0 1 0 1 1 0 0 1 1 0 0 1 1 0 0 0 1 1 1 0 1 0\n",
            " 0 1 1 0 0 1 1 1 0 1 0 0 1 0 0 1 1 0 0 0 1 0 1 1 0 1 1 1 0 0 1 1 0 0 0 0 0\n",
            " 1 0 0 0 1 0 0 1 1 1 1 1 1 0 1 0 0 1 0 1 0 1 0 0 1 0 1 1 0 0 0 0 0 1 1 1 1\n",
            " 0 1 0 0 0 1 0 0 0 1 1 0 1 1 0 0 0 1 0 0 0 0 1 1 1 1 0 1 0 1 0 1 1 0 0 0 1\n",
            " 1 1 1 1 0 1 0 1 0 0 1 1 0 0 1 0 0 0 1 1 0 0 1 1 0 0 1 1 1 1 0 1 0 0 1 1 0\n",
            " 1 1 1 0 0 1 0 0 1 1 1 1 1 1 0 1 1 1 0 0 0 1 1 0 1 0 1 0 1 1 1 0 1 1 0 0 1\n",
            " 0 1 0 1 1 1 1 1 1 1 1 1 0 0 0 0 0 0 1 1 0 1 0 1 1 0 1 1 1 1 0 0 1 1 1 0 0\n",
            " 0 1 1 1 1 0 0 0 1 0 1 0 0 0 1 1 1 0 1 1 1 1 1 1 0 1 0 0 1 1 0 0 1 0 0 0 0\n",
            " 1 1 1 0 0 0 0 1 1 1 1 0 0 0 1 0 1 0 1 1 0 1 0 0 0 0 0 1 0 0 1 0 1 0 0 0 1\n",
            " 1 1 1 1 1 1 0 1 1 1 1 1 0 1 0 0 1 1 1 1 1 1 1 1 1 1 0 0 0 0 0 1 0 0 0 0 0\n",
            " 0 1 0 1 1 1 1 1 0 0 0 0 1 1 0 1 1 0 0 0 0 0 0 0 1 1 1 0 1 0 1 0 1 0 1 0 0\n",
            " 0 1 0 0 0 0 0 0 1 1 1 0 0 1 1 0 0 0 1 1 0 1 1 0 0 0 0 1 0 0 0 1 0 1 0 0 1\n",
            " 0 1 0 0 1 1 0 1 1 0 0 0 1 0 1 1 0 1 0 0 0 1 1 0 1 1 0 1 0 1 0 0 1 1 0 1 0\n",
            " 1 1 0 1 1 0 1 0 1 0 1 0 1 0 1 0 0 0 1 1 1 0 1 0 0 0 1 0 1 0 0 0 0 1 1 0 0\n",
            " 1 0 0 0 1 0 1 1 0 1 1 0 1 0 0 1 0 1 1 0 0 1 1 1 1 1 0 0 0 1 0 1 1 1 0 0 1\n",
            " 0 0 1 1 1 0 1 1 0 1 1 1 1 1 0 0 1 0 1 0 0 1 0 0 1 1 1 0 1 0 0 1 1 1 0 1 1\n",
            " 1]\n"
          ]
        }
      ]
    },
    {
      "cell_type": "code",
      "source": [
        "# Rescale data (standardization)\n",
        "train_mean = X_train.mean()\n",
        "train_std = X_train.std()\n",
        "\n",
        "print(train_mean)\n",
        "print(train_std)\n",
        "\n",
        "X_train = (X_train - train_mean) / train_std\n",
        "X_test = (X_test - train_mean) / train_std"
      ],
      "metadata": {
        "id": "zT-AjX7yIINw",
        "colab": {
          "base_uri": "https://localhost:8080/"
        },
        "outputId": "70767630-a367-4f1b-8fb8-d271a635b546"
      },
      "execution_count": null,
      "outputs": [
        {
          "output_type": "stream",
          "name": "stdout",
          "text": [
            "0.37964362633769544\n",
            "0.7131687903021432\n"
          ]
        }
      ]
    },
    {
      "cell_type": "code",
      "source": [
        "_, (train_ax, test_ax) = plt.subplots(ncols=2, sharex=True, sharey=True, figsize=(8, 4))\n",
        "\n",
        "train_ax.scatter(X_train[:, 0], X_train[:, 1], c=y_train)\n",
        "train_ax.set_ylabel(\"Feature #1\")\n",
        "train_ax.set_xlabel(\"Feature #0\")\n",
        "train_ax.set_title(\"Training data\")\n",
        "\n",
        "test_ax.scatter(X_test[:, 0], X_test[:, 1], c=y_test)\n",
        "test_ax.set_ylabel(\"Feature #1\")\n",
        "test_ax.set_xlabel(\"Feature #0\")\n",
        "_ = test_ax.set_title(\"Testing data\")"
      ],
      "metadata": {
        "id": "HlPPmSsEXtVX",
        "colab": {
          "base_uri": "https://localhost:8080/",
          "height": 381
        },
        "outputId": "efa8c2de-3e4c-4c3c-bdf5-f586942bc466"
      },
      "execution_count": null,
      "outputs": [
        {
          "output_type": "display_data",
          "data": {
            "text/plain": [
              "<Figure size 800x400 with 2 Axes>"
            ],
            "image/png": "[encoded data removed]"
          },
          "metadata": {}
        }
      ]
    },
    {
      "cell_type": "markdown",
      "source": [
        "## Linear transform, a.k.a. one-layer of neurons a.k.a. perceptron (without activation function)\n",
        "\n",
        "First step on our journey is to define the simple operation of perceptron, without any activation function for now. We recall that a perceptron is doing:\n",
        "\n",
        "$$y^m = \\sum^n_i w^m_i x_i + b^m_i$$\n",
        "\n",
        "for every input data vector $\\mathrm{x}$ of dimension $n$, and for every neuron $m$. $y^m$ is the output of neuron $m$, $w^m$ are its synaptic weights (strenght of the connections between input and output), and $b^m$ are its bias weights.\n",
        "\n",
        "This can be written as a matrix-vector product:\n",
        "\n",
        "$$ \\mathrm{y} = \\mathrm{x} \\cdot \\mathrm{W} + \\mathrm{b}$$\n",
        "\n",
        "with $\\mathrm{x} = (x_1, x_2, \\dots x_n)$ and $\\mathrm{y} = (y_1, y_2, \\dots y_m)$. $\\mathrm{W}$ is a matrix of shape $(n \\times m)$ where $\\mathrm{W}_{(i, j)}$ is the weight between input $i$ and neuron $j$. Similarly, $\\mathrm{b} = (b_1, b_2 \\dots b_m)$ contains bias weights of all outputs neurons."
      ],
      "metadata": {
        "id": "orKAK9zUtRO_"
      }
    },
    {
      "cell_type": "markdown",
      "source": [
        "### Initializer\n",
        "\n",
        "We define a first function to initialize some connections between neurons with random weights and biases:"
      ],
      "metadata": {
        "id": "aS1l5b0pyI3i"
      }
    },
    {
      "cell_type": "code",
      "source": [
        "def create_layer(input_shape, output_shape):\n",
        "    \"\"\"Create a layer of connections between neurons.\n",
        "\n",
        "    Parameters:\n",
        "    -----------\n",
        "        input_shape : int\n",
        "            Number of input neurons.\n",
        "        output_shape : int\n",
        "            Number of output neurons.\n",
        "\n",
        "    Return\n",
        "    ------\n",
        "        array of shape (input_shape, output_shape),\n",
        "        array of shape (output_shape, )\n",
        "            w and b, the weights and biases between neurons.\n",
        "    \"\"\"\n",
        "    # Create some uniformly distributed random weights using np.random.uniform\n",
        "    w = np.random.uniform(0.0,1.0,input_shape*output_shape)\n",
        "    b = np.random.uniform(0.0,1.0,input_shape*output_shape)\n",
        "    return w, b"
      ],
      "metadata": {
        "id": "SJ2Z0yXYtPqy"
      },
      "execution_count": null,
      "outputs": []
    },
    {
      "cell_type": "code",
      "source": [
        "w, b = create_layer(2, 3)\n",
        "assert w.shape == (2, 3)\n",
        "assert b.shape == (3, )"
      ],
      "metadata": {
        "id": "gSVtby-yXkAo",
        "colab": {
          "base_uri": "https://localhost:8080/",
          "height": 204
        },
        "outputId": "66eb48a7-c4c6-4c0e-fa6b-6692a6c785dc"
      },
      "execution_count": null,
      "outputs": [
        {
          "output_type": "error",
          "ename": "AssertionError",
          "evalue": "ignored",
          "traceback": [
            "\u001b[0;31m---------------------------------------------------------------------------\u001b[0m",
            "\u001b[0;31mAssertionError\u001b[0m                            Traceback (most recent call last)",
            "\u001b[0;32m<ipython-input-7-01fdccee87cd>\u001b[0m in \u001b[0;36m<cell line: 2>\u001b[0;34m()\u001b[0m\n\u001b[1;32m      1\u001b[0m \u001b[0mw\u001b[0m\u001b[0;34m,\u001b[0m \u001b[0mb\u001b[0m \u001b[0;34m=\u001b[0m \u001b[0mcreate_layer\u001b[0m\u001b[0;34m(\u001b[0m\u001b[0;36m2\u001b[0m\u001b[0;34m,\u001b[0m \u001b[0;36m3\u001b[0m\u001b[0;34m)\u001b[0m\u001b[0;34m\u001b[0m\u001b[0;34m\u001b[0m\u001b[0m\n\u001b[0;32m----> 2\u001b[0;31m \u001b[0;32massert\u001b[0m \u001b[0mw\u001b[0m\u001b[0;34m.\u001b[0m\u001b[0mshape\u001b[0m \u001b[0;34m==\u001b[0m \u001b[0;34m(\u001b[0m\u001b[0;36m2\u001b[0m\u001b[0;34m,\u001b[0m \u001b[0;36m3\u001b[0m\u001b[0;34m)\u001b[0m\u001b[0;34m\u001b[0m\u001b[0;34m\u001b[0m\u001b[0m\n\u001b[0m\u001b[1;32m      3\u001b[0m \u001b[0;32massert\u001b[0m \u001b[0mb\u001b[0m\u001b[0;34m.\u001b[0m\u001b[0mshape\u001b[0m \u001b[0;34m==\u001b[0m \u001b[0;34m(\u001b[0m\u001b[0;36m3\u001b[0m\u001b[0;34m,\u001b[0m \u001b[0;34m)\u001b[0m\u001b[0;34m\u001b[0m\u001b[0;34m\u001b[0m\u001b[0m\n",
            "\u001b[0;31mAssertionError\u001b[0m: "
          ]
        }
      ]
    },
    {
      "cell_type": "markdown",
      "source": [
        "### Neural net operator\n",
        "\n",
        "Then, we define a function that performs the neural network base operation defined above with some data, weights and biases:"
      ],
      "metadata": {
        "id": "Y6kh_pvyyRhc"
      }
    },
    {
      "cell_type": "code",
      "source": [
        "def linear(x, w, b):\n",
        "    \"\"\"A linear combination of inputs,\n",
        "    a.k.a a perceptron with linear activation:\n",
        "\n",
        "        y = x . w + b\n",
        "\n",
        "    Parameters:\n",
        "    -----------\n",
        "        x : array of shape (n_samples, n)\n",
        "            Input data.\n",
        "        w : array of shape (n, m)\n",
        "            Weight matrix.\n",
        "        b : array of shape (m, )\n",
        "            Bias vector.\n",
        "\n",
        "    Return\n",
        "    ------\n",
        "        array of shape (n_samples, m)\n",
        "            y, the output of the linear transformation.\n",
        "    \"\"\"\n",
        "    # Using np.dot for \"dot product\" (scalar product)\n",
        "    return ..."
      ],
      "metadata": {
        "id": "AbY7pcaDyRAI"
      },
      "execution_count": null,
      "outputs": []
    },
    {
      "cell_type": "code",
      "source": [
        "x = [[0.5, 0.5]]\n",
        "w = [[1.0], [1.0]]\n",
        "b = [1.0]\n",
        "y = linear(x, w, b)\n",
        "\n",
        "assert y[0, 0] == np.array([2.0])\n",
        "\n",
        "x = [[0.5, 0.5], [0.5, 0.5]]\n",
        "w = [[1.0, 1.0], [1.0, 1.0]]\n",
        "b = [1.0, 1.0]\n",
        "y = linear(x, w, b)\n",
        "\n",
        "assert y[0, 0] == 2.0\n",
        "assert y[0, 1] == 2.0\n",
        "assert y[1, 0] == 2.0\n",
        "assert y[1, 1] == 2.0"
      ],
      "metadata": {
        "id": "pERE3yLRBvFV"
      },
      "execution_count": null,
      "outputs": []
    },
    {
      "cell_type": "markdown",
      "source": [
        "### Derivative\n",
        "\n",
        "Finally, because we will still need to compute gradients/derivatives of all operations in the neural network, we define its (very simple) derivative.\n",
        "\n",
        "Note that we allow to take the derivative **with regard to the parameters $\\mathrm{w}$ and $\\mathrm{b}$**, because we eventually want to know **what is the effect of changing these parameters on the activity of the network, to find the best parameters.**"
      ],
      "metadata": {
        "id": "w8-aqsKjyey2"
      }
    },
    {
      "cell_type": "code",
      "source": [
        "def d_linear(x, w, b, with_regard_to=\"x\"):\n",
        "    \"\"\"Gradient of the activity of the linear perceptron\n",
        "    with regard to its parameters (weights and biases) or\n",
        "    input (x).\n",
        "\n",
        "    This is exactly like computing the derivative of an affine function,\n",
        "    but with regard to any of the term in the function:\n",
        "\n",
        "    y = x . w + b\n",
        "\n",
        "    ->\n",
        "        with regard to x:\n",
        "            dy/dx = w (everything is considered constant except x)\n",
        "\n",
        "        with regard to w:\n",
        "            dy/dw = x (everything is considered constant except w)\n",
        "\n",
        "        with regard to b:\n",
        "            dy/db = 1 (everything is considered constant except b)\n",
        "\n",
        "    Parameters\n",
        "    ----------\n",
        "        x : array of shape (n_samples, n)\n",
        "            Input data.\n",
        "        w : array of shape (n, m)\n",
        "            Weight matrix.\n",
        "        b : array of shape (m, )\n",
        "            Bias vector.\n",
        "        with_regard_to : \"w\", \"x\", \"b\"\n",
        "            Take derivative/gradient from parameters w\n",
        "            or b or from inputs x.\n",
        "\n",
        "    Return\n",
        "    ------\n",
        "        array of shape (m, n) or (n, n_samples) or (1, n_samples)\n",
        "            Derivative with regard to\n",
        "    \"\"\"\n",
        "    if with_regard_to == \"x\":\n",
        "        return w.T\n",
        "    elif with_regard_to == \"w\":\n",
        "        return x.T\n",
        "    elif with_regard_to == \"b\":\n",
        "        return np.ones((1, x.shape[0]))\n",
        "    else:\n",
        "        raise ValueError(\"'with_regard_to' must be equal to 'x', 'w' or 'b'.\")"
      ],
      "metadata": {
        "id": "KhezxrYHzHeP"
      },
      "execution_count": null,
      "outputs": []
    },
    {
      "cell_type": "markdown",
      "source": [
        "## Activation functions\n",
        "\n",
        "Finally, we need to define activation functions and their derivatives. You may find the formula on internet.\n",
        "\n",
        "### Tanh"
      ],
      "metadata": {
        "id": "YvPcRGOfxXJQ"
      }
    },
    {
      "cell_type": "code",
      "source": [
        "def tanh(x):\n",
        "    \"\"\"Hyperbolic tangent activation function tanh(x).\n",
        "\n",
        "    Parameters\n",
        "    ----------\n",
        "        x : array\n",
        "\n",
        "    Return\n",
        "    ------\n",
        "        array\n",
        "    \"\"\"\n",
        "    # Simply using np.tanh\n",
        "    return ...\n",
        "\n",
        "def d_tanh(x):\n",
        "    \"\"\"Hyperbolic tangent derivative tanh'(x).\n",
        "\n",
        "    Parameters\n",
        "    ----------\n",
        "        x : array\n",
        "\n",
        "    Return\n",
        "    ------\n",
        "        array\n",
        "    \"\"\"\n",
        "    # Also using np.tanh\n",
        "    return ..."
      ],
      "metadata": {
        "id": "Vd_-ACSMoeRB"
      },
      "execution_count": null,
      "outputs": []
    },
    {
      "cell_type": "code",
      "source": [
        "x = np.linspace(-5, 5, 100)\n",
        "plt.plot(x, tanh(x))\n",
        "plt.plot(x, d_tanh(x))\n",
        "plt.axhline(0.0, linestyle=\"--\", alpha=0.5)\n",
        "plt.axvline(0.0, linestyle=\"--\", alpha=0.5)"
      ],
      "metadata": {
        "id": "Q0VnZO5Bog_L"
      },
      "execution_count": null,
      "outputs": []
    },
    {
      "cell_type": "markdown",
      "source": [
        "### Sigmoid"
      ],
      "metadata": {
        "id": "N1Oi0JPuo6z2"
      }
    },
    {
      "cell_type": "code",
      "source": [
        "def sigmoid(x):\n",
        "    \"\"\"Sigmoid activation function σ(x)\n",
        "\n",
        "    Parameters\n",
        "    ----------\n",
        "        x : array\n",
        "\n",
        "    Return\n",
        "    ------\n",
        "        array\n",
        "    \"\"\"\n",
        "    # Using np.exp\n",
        "    return ...\n",
        "\n",
        "\n",
        "def d_sigmoid(x):\n",
        "    \"\"\"Sigmoid derivative function σ'(x)\n",
        "\n",
        "    Parameters\n",
        "    ----------\n",
        "        x : array\n",
        "\n",
        "    Return\n",
        "    ------\n",
        "        array\n",
        "    \"\"\"\n",
        "    # Using the previously defined sigmoid function\n",
        "    return ..."
      ],
      "metadata": {
        "id": "znsLyQVXoXki"
      },
      "execution_count": null,
      "outputs": []
    },
    {
      "cell_type": "code",
      "source": [
        "x = np.linspace(-5, 5, 100)\n",
        "plt.plot(x, sigmoid(x))\n",
        "plt.plot(x, d_sigmoid(x))\n",
        "plt.axhline(0.0, linestyle=\"--\", alpha=0.5)\n",
        "plt.axvline(0.0, linestyle=\"--\", alpha=0.5)"
      ],
      "metadata": {
        "id": "rvVNSKFgqArd"
      },
      "execution_count": null,
      "outputs": []
    },
    {
      "cell_type": "markdown",
      "source": [
        "## Loss functions\n",
        "\n",
        "Given a prediction $\\hat{y}$ (`y_pred` in the code) and a true value $y$ (`y_true` in the code), give **a measure of the distance or likelihood of the obtained prediction with regard to what we were expecting**.\n",
        "\n",
        "We will cover two main loss functions, for regression and classification."
      ],
      "metadata": {
        "id": "ReQB97aRaCOZ"
      }
    },
    {
      "cell_type": "markdown",
      "source": [
        "### Regression: Mean Squared Error\n",
        "\n",
        "$$MSE(y,\\hat{y}) = \\frac{1}{2N} \\sum^N_i(\\hat{y}_i - y_i)^2$$\n",
        "\n",
        "This is basically **the mean distance between $\\hat{y}$ and $y$** (but squared, and divided by two for convenience when computing its derivative.)\n",
        "\n",
        "$\\rightarrow$ The shorter the distance, the better the fit."
      ],
      "metadata": {
        "id": "CDv0F0fBbdsw"
      }
    },
    {
      "cell_type": "code",
      "source": [
        "def mse(y_true, y_pred):\n",
        "    \"\"\"Mean Squared Error.\n",
        "\n",
        "    Parameters\n",
        "    ----------\n",
        "        y_true : array of shape (n_samples, )\n",
        "            Expected response of the model.\n",
        "        y_pred : array of shape (n_samples, )\n",
        "            Actual response of the model.\n",
        "\n",
        "    Return\n",
        "    ------\n",
        "        array of shape (1, )\n",
        "            MSE (square distance) of expected versus actual response.\n",
        "    \"\"\"\n",
        "    # Using np.mean and '**2' to perform 'power(array, 2)'\n",
        "    return ..."
      ],
      "metadata": {
        "id": "5MTpT7V9qwxc"
      },
      "execution_count": null,
      "outputs": []
    },
    {
      "cell_type": "markdown",
      "source": [
        "### Classification: Cross-entropy\n",
        "\n",
        "Also called **negative log-likelihood** or **logistic loss** when performing binary classification.\n",
        "\n",
        "In the binary case (only two classes):\n",
        "\n",
        "$$\n",
        "\\mathcal{L}(\\hat{y}, y) = - \\frac{1}{N} \\sum^N_i y_i \\times \\ln(\\hat{y_i}) + (1 - y_i) \\times \\ln(1 - \\hat{y_i})\n",
        "$$\n",
        "\n",
        "As we are estimating probabilities when doing classification (probability of being a cat or a dog, for instance), error can be computed as a **likelihood measure between probabilities distributions**.\n",
        "\n",
        "Basically, we measure how good our model is at responding that:\n",
        "- a cat is a cat, $y \\times \\ln(\\hat{y})$, or how good is our estimation of $p$ in a binomial distribution of cats and not cats\n",
        "- a dog is not a cat, $(1 - y) \\times \\ln(1 - \\hat{y})$, or how good is our estimation of $1-p$ in a binomial distribution of cats and not cats.\n",
        "\n",
        "$\\rightarrow$ If the model is good at both, then **cross-entropy will reach 0**."
      ],
      "metadata": {
        "id": "_MtZRFRtcTLl"
      }
    },
    {
      "cell_type": "code",
      "source": [
        "def binary_crossentropy(y_true, y_pred):\n",
        "    \"\"\"Binary cross-entropy.\n",
        "\n",
        "    Also known as negative log-likelihood or logistic loss.\n",
        "\n",
        "    Parameters\n",
        "    ----------\n",
        "        y_true : array of shape (n_samples, )\n",
        "            Expected response of the model.\n",
        "        y_pred : array of shape (n_samples, )\n",
        "            Actual response of the model.\n",
        "\n",
        "    Return\n",
        "    ------\n",
        "        array of shape (1, )\n",
        "            MSE (square distance) of expected versus actual response.\n",
        "    \"\"\"\n",
        "    # Using np.log and np.mean (do not forget the leading minus sign !)\n",
        "    return ..."
      ],
      "metadata": {
        "id": "PrAsHXTOcT2n"
      },
      "execution_count": null,
      "outputs": []
    },
    {
      "cell_type": "markdown",
      "source": [
        "### Bonus: general case with $C$ classes\n",
        "\n",
        "In the general case with $C$ different classes (not only two):\n",
        "\n",
        "$$\n",
        "\\mathcal{L}(\\hat{y}, y) = - \\frac{1}{N} \\sum^N_i \\sum_c^C y_i^c \\times \\ln(\\hat{y_i^c})\n",
        "$$\n",
        "\n",
        "We will not cover this case for now, as our problem involves only two classes.\n",
        "You can implement it as a bonus question."
      ],
      "metadata": {
        "id": "uGe1pYEcgY4u"
      }
    },
    {
      "cell_type": "code",
      "source": [
        "def crossentropy(y_true, y_pred):\n",
        "    ..."
      ],
      "metadata": {
        "id": "9XdZWWvAgCbH"
      },
      "execution_count": null,
      "outputs": []
    },
    {
      "cell_type": "markdown",
      "source": [
        "### Derivatives\n",
        "\n",
        "Finally, we need loss functions derivatives to perform gradient descent:"
      ],
      "metadata": {
        "id": "ql5u4RZMg-Wx"
      }
    },
    {
      "cell_type": "code",
      "source": [
        "def d_mse(y_true, y_pred):\n",
        "    return  y_pred - y_true\n",
        "\n",
        "def d_binary_crossentropy(y_true, y_pred):\n",
        "    return np.divide(y_pred - y_true, y_pred * (1 - y_pred))\n",
        "\n",
        "def d_crossentropy(y_true, y_pred):\n",
        "    ..."
      ],
      "metadata": {
        "id": "l-JKTxung9Bj"
      },
      "execution_count": null,
      "outputs": []
    },
    {
      "cell_type": "markdown",
      "source": [
        "## Visualizing the objective\n",
        "\n",
        "The loss function chosen to evaluate our problem will define **the objective of our optimization process.** In other words, the loss will measure how well our model is predicting the data, and how much we should change model's parameters to make better prediction.\n",
        "\n",
        "Machine learning techniques thus always aim at the same objective: **to find  parameters that make the loss (or error) as minimal as possible:**\n",
        "\n",
        "$$ \\underset{\\theta}{\\mathrm{argmin}}~~\\mathcal{L}(\\hat{y}=f(\\theta, x), y) $$\n",
        "\n",
        "with $f(\\theta, x)$ as the result of our neural network, and parameters $\\theta = \\{\\mathbf{w}, \\mathbf{b}\\}$ as all weights and biases in the network.\n",
        "\n",
        "Given a simple one layer neural network (a perceptron) with bias $\\mathrm{b} = 0$, with only two weights $w_1, w_2$, and with sigmoid activation function, let's have a look at what this loss function looks like in our case."
      ],
      "metadata": {
        "id": "FFlrqZjrqtMq"
      }
    },
    {
      "cell_type": "code",
      "source": [
        "def plot_surface(loss_values, w1, w2, view_init, loss_name, ax):\n",
        "\n",
        "    min_index = np.unravel_index(np.argmin(loss_values), loss_values.shape)\n",
        "    min_loss = loss_values[min_index]\n",
        "    min_w1, min_w2 = w1[min_index[1]], w2[min_index[0]]\n",
        "\n",
        "    ax.scatter(\n",
        "        min_w1,\n",
        "        min_w2,\n",
        "        min_loss,\n",
        "        c=\"red\",\n",
        "        s=100,\n",
        "        label=f\"Min. = {min_loss:.3f}\"\n",
        "        )\n",
        "\n",
        "    ax.plot_surface(\n",
        "        *np.meshgrid(w1, w2),\n",
        "        loss_values,\n",
        "        cmap=\"RdYlGn_r\",\n",
        "        alpha=0.5\n",
        "        )\n",
        "\n",
        "    ax.set_xlabel(\"$W_1$\", size=20)\n",
        "    ax.set_ylabel(\"$W_2$\", size=20)\n",
        "    ax.set_zlabel(loss_name, size=20, rotation=\"vertical\")\n",
        "\n",
        "    ax.view_init(*view_init)\n",
        "\n",
        "    ax.legend()\n",
        "\n",
        "    return ax\n",
        "\n",
        "\n",
        "def plot_nonlinear_loss_landscape(x, y, param_range, steps):\n",
        "\n",
        "    w1 = np.linspace(*param_range, steps)\n",
        "    w2 = np.linspace(*param_range, steps)\n",
        "\n",
        "    mse_values = np.zeros((steps, steps))\n",
        "    crossentropy_values = np.zeros((steps, steps))\n",
        "    for i in range(steps):\n",
        "        for j in range(steps):\n",
        "\n",
        "            w = np.array([[w1[i]], [w2[j]]])\n",
        "\n",
        "            h = linear(x, w, 0)\n",
        "            y_pred = sigmoid(h)\n",
        "\n",
        "            mse_values[i, j] = mse(y, y_pred)\n",
        "            crossentropy_values[i, j] = binary_crossentropy(y, y_pred)\n",
        "\n",
        "    fig, (ax1, ax2) = plt.subplots(1, 2, figsize=(15, 15), subplot_kw={\"projection\": \"3d\"})\n",
        "\n",
        "    plot_surface(mse_values, w1, w2, (30, 100), \"MSE\", ax1)\n",
        "    plot_surface(crossentropy_values, w1, w2, (30, 100), \"Bin. Crossentropy\", ax2)\n",
        "\n",
        "    plt.show()"
      ],
      "metadata": {
        "id": "Q-ZPXaM5sPhW"
      },
      "execution_count": null,
      "outputs": []
    },
    {
      "cell_type": "code",
      "source": [
        "plot_nonlinear_loss_landscape(X_train, y_train, (-10, 10), 100)"
      ],
      "metadata": {
        "id": "6v5EfevdJ9Pj"
      },
      "execution_count": null,
      "outputs": []
    },
    {
      "cell_type": "markdown",
      "source": [
        "As you noticed, this code is a bit long to execute. This is because we computed the loss value of our simple neural network **for 10,000 different combinations of parameter $w_1$ and $w_2$**, as shown on the plot.\n",
        "\n",
        "This plot is of course impossible to build for real world applications: If there was more than 2 parameters in the model, this plot would have more than 4 dimensions. It would also take a very long time to create, as it requires to test all combinations of parameters.\n",
        "\n",
        "This is why we use methods such as gradient descent to find the best values of parameters."
      ],
      "metadata": {
        "id": "5zujaRiQy_UP"
      }
    },
    {
      "cell_type": "markdown",
      "source": [
        "### Question: given these plots, what is the most appropriate loss function to use for our problem and why? What are the best parameters?"
      ],
      "metadata": {
        "id": "tWD1h_gI012j"
      }
    },
    {
      "cell_type": "markdown",
      "source": [],
      "metadata": {
        "id": "lrlBfEfE1H1N"
      }
    },
    {
      "cell_type": "markdown",
      "source": [
        "## First model: One layer neural network with sigmoid activation\n",
        "\n",
        "The network is defined by two successive operations:\n",
        "\n",
        "$$\\mathbf{z} = \\mathbf{x} \\cdot \\mathbf{W} + \\mathbf{b}$$\n",
        "$$\\mathbf{y} = sigmoid(\\mathbf{z})$$\n",
        "\n",
        "All parameters are randomly initialized.\n",
        "\n",
        "We will use cross-entropy as a loss function for this classification task.\n",
        "The network will learn through gradient descent.\n",
        "\n",
        "The algorithm can be cut in three main parts:\n",
        "\n",
        "1. Make a prediction with current parameters $\\mathbf{w, b}$. This is also called **the forward pass**, because information (the data here) goes from input of the model to its output.\n",
        "\n",
        "$$\\mathbf{z} = \\mathbf{x} \\cdot \\mathbf{W} + \\mathbf{b}$$\n",
        "$$\\mathbf{y} = sigmoid(\\mathbf{z})$$\n",
        "\n",
        "2. Compute error (loss) and compute the loss gradient with regard to all parameters of the model. This is also called **the backward pass**, because information (the error here) goes from output of the model to its input. It will inform us about the slope around the current parameters in the loss landscape (where is it going down and how fast ?)\n",
        "\n",
        "$$\\nabla_\\mathbf{w} (\\mathcal{L}) = \\frac{\\partial\\mathcal{L}}{\\partial \\mathbf{y}} \\times \\frac{\\partial \\mathbf{y}}{\\partial \\mathbf{z}} \\cdot \\frac{\\partial \\mathbf{z}}{\\partial \\mathbf{w}}$$\n",
        "\n",
        "$$\\nabla_\\mathbf{b} (\\mathcal{L}) = \\frac{\\partial\\mathcal{L}}{\\partial \\mathbf{y}} \\times \\frac{\\partial \\mathbf{y}}{\\partial \\mathbf{z}} \\cdot \\frac{\\partial \\mathbf{z}}{\\partial \\mathbf{b}}$$\n",
        "\n",
        "3. Update parameters $\\mathbf{w, b}$ using the gradient. This is called **gradient descent**. The parameter $\\eta$ is called the learning rate, and controls how fast we jump from one position to another on the loss landscape, going down the slope (the gradient).\n",
        "\n",
        "$$\\mathbf{w} := \\mathbf{w}-\\eta \\times \\nabla_\\mathbf{w} (\\mathcal{L})$$\n",
        "$$\\mathbf{b} := \\mathbf{b}-\\eta \\times \\nabla_\\mathbf{b} (\\mathcal{L})$$\n",
        "\n",
        "\n",
        "Doing so, we will slowly slide down the loss landscape we could see on the previous figures, until we reach a position close to the minimum point."
      ],
      "metadata": {
        "id": "oDaN7PAq1Fw9"
      }
    },
    {
      "cell_type": "code",
      "source": [
        "input_shape = X_train.shape[1]  # X dimensions (here, 2)\n",
        "output_shape = 1  # one neuron output\n",
        "\n",
        "loss_values = []\n",
        "y_preds = []\n",
        "all_grad_w = []\n",
        "\n",
        "all_w = []\n",
        "all_b = []\n",
        "\n",
        "\n",
        "#--- PARAMETERS and HYPERPARAMETERS ---\n",
        "\n",
        "# some random weights to start with\n",
        "w, b = create_layer(input_shape, output_shape)\n",
        "\n",
        "# You can also try using some extreme values\n",
        "# w = np.array([[-10], [10]])\n",
        "# b = np.array([0])\n",
        "\n",
        "\n",
        "# Number of epochs (iterations of gradient descent)\n",
        "n_epochs = 100\n",
        "\n",
        "# Learning rate\n",
        "lr = 0.001\n",
        "\n",
        "#--- TRAINING LOOP ---\n",
        "\n",
        "for epoch in range(n_epochs):\n",
        "\n",
        "    #--- PREDICTION (FORWARD PASS) ---\n",
        "\n",
        "    #--- Layer 0: X_train ---\n",
        "    # Nothing to do here, X_train virtually enters the network.\n",
        "\n",
        "\n",
        "    #--- Layer 1 (input to output layer) ---\n",
        "    # z = w . x + b\n",
        "    z = ...\n",
        "    # y = sigmoid(z)\n",
        "    y = ...\n",
        "\n",
        "    #--- Loss: L(y_true, y) ---\n",
        "    loss = binary_crossentropy(y_train, y)\n",
        "\n",
        "    y_preds.append(y)\n",
        "\n",
        "    # Record everything before updating\n",
        "    loss_values.append(loss)\n",
        "    all_w.append(w)\n",
        "    all_b.append(b)\n",
        "\n",
        "\n",
        "    #--- BACK PROPAGATION (BACKWARD PASS) ---\n",
        "\n",
        "    # All gradients and derivatives are marked\n",
        "    # with \"df/dx\" notation.\n",
        "    # Note that this is not rigorous for gradients\n",
        "    # however.\n",
        "\n",
        "    # dL/dy\n",
        "    dL_dy = d_binary_crossentropy(y_train, y)\n",
        "\n",
        "    # dL/dz = dL/dy * dy/dz\n",
        "    dL_dz = ...\n",
        "\n",
        "    # \"dL/dw\" (grad L/w) = grad z/w . dL/dz\n",
        "    grad_z_w = d_linear(X_train, w, b, with_regard_to=\"w\")\n",
        "    grad_L_w = ...\n",
        "\n",
        "    # \"dL/db\" (grad L/b) = grad z/b . dL/dz\n",
        "    grad_z_b = d_linear(X_train, w, b, with_regard_to=\"b\")\n",
        "    grad_L_b = ...\n",
        "\n",
        "    ##--- GRADIENT DESCENT ---\n",
        "\n",
        "    w = w - ...\n",
        "    b = b - ...\n",
        "\n",
        "    all_grad_w.append(grad_L_w)"
      ],
      "metadata": {
        "id": "zeWb5eZFF57u"
      },
      "execution_count": null,
      "outputs": []
    },
    {
      "cell_type": "code",
      "source": [
        "plt.plot(loss_values)\n",
        "plt.ylabel(\"Loss\")\n",
        "plt.xlabel(\"Epoch\")"
      ],
      "metadata": {
        "id": "t_1K1QKw6BXg"
      },
      "execution_count": null,
      "outputs": []
    },
    {
      "cell_type": "code",
      "source": [
        "w1_values = np.linspace(-10, 10, 100)\n",
        "w2_values = np.linspace(-10, 10, 100)\n",
        "\n",
        "crossentropy_values = np.zeros((100, 100))\n",
        "for i in range(100):\n",
        "    for j in range(100):\n",
        "\n",
        "        w = np.array([[w1_values[i]], [w2_values[j]]])\n",
        "\n",
        "        h = linear(X_train, w, all_b[-1])\n",
        "        y_pred = sigmoid(h)\n",
        "\n",
        "        crossentropy_values[j, i] = binary_crossentropy(y_train, y_pred)\n",
        "\n",
        "fig = plt.figure(figsize=(20, 10))\n",
        "\n",
        "ax1 = fig.add_subplot(1, 2, 1, projection=\"3d\")\n",
        "\n",
        "plot_surface(crossentropy_values, w1_values, w2_values, (30, 30), \"Bin. Crossentropy\", ax1)\n",
        "\n",
        "w1s = [ws[0] for ws in all_w]\n",
        "w2s = [ws[1] for ws in all_w]\n",
        "\n",
        "ax1.scatter(w1s, w2s, loss_values)\n",
        "\n",
        "ax2 = fig.add_subplot(1, 2, 2)\n",
        "\n",
        "grad_w1s = np.array([grad[0] for grad in all_grad_w])\n",
        "grad_w2s = np.array([grad[1] for grad in all_grad_w])\n",
        "\n",
        "ax2.contourf(*np.meshgrid(w1_values, w2_values), crossentropy_values, cmap=\"RdYlGn_r\", levels=50, alpha=0.5)\n",
        "quiver = ax2.quiver(w1s, w2s, -grad_w1s*lr, -grad_w2s*lr, scale=20)\n",
        "\n",
        "ax2.set_title(\"Gradient update value ($-\\\\eta \\\\times \\\\nabla_{\\\\mathbf{w}}(\\\\mathcal{L})$)\", size=20)\n",
        "ax2.set_ylabel(\"$W_2$\", size=20)\n",
        "ax2.set_xlabel(\"$W_1$\", size=20)"
      ],
      "metadata": {
        "id": "9Yzr1O4JAHUz"
      },
      "execution_count": null,
      "outputs": []
    },
    {
      "cell_type": "code",
      "source": [
        "x1 = np.linspace(-2.5, 2.5, 100)\n",
        "x2 = np.linspace(-1.5, 1.5, 100)\n",
        "\n",
        "X_grid = np.meshgrid(x1, x2)\n",
        "X_grid = np.concatenate([X_grid[0].reshape(-1, 1), X_grid[1].reshape(-1, 1)], axis=1)\n",
        "\n",
        "y = sigmoid(linear(X_grid, w, b))\n",
        "\n",
        "y_pred = y.reshape(100, 100)\n",
        "\n",
        "plt.contourf(*np.meshgrid(x1, x2), y_pred, cmap=\"coolwarm\")\n",
        "plt.colorbar(label=\"Sigmoid activation value\")\n",
        "plt.scatter(X_test[:, 0], X_test[:, 1], c=y_test)\n",
        "plt.xlabel(\"Feature #0\")\n",
        "plt.ylabel(\"Feature #1\")\n",
        "plt.title(\"Output neuron activation for all data plane\")\n",
        "plt.show()"
      ],
      "metadata": {
        "id": "cYvRhc9I5ZhA"
      },
      "execution_count": null,
      "outputs": []
    },
    {
      "cell_type": "code",
      "source": [
        "def accuracy(y_pred, y_test, threshold=0.5):\n",
        "    \"\"\"Classification accuracy, with decision threshold.\n",
        "\n",
        "    Parameters\n",
        "    ----------\n",
        "        y_pred : array\n",
        "            Predictions (between 0 and 1)\n",
        "        y_test : array\n",
        "            Ground truth class values (0 or 1)\n",
        "        threshold : float\n",
        "            A threshold between 0 and 1. Predictions above the\n",
        "            threshold will be interpreted as class 1, 0 otherwise.\n",
        "\n",
        "    Return\n",
        "    ------\n",
        "        float\n",
        "            Accuracy score.\n",
        "    \"\"\"\n",
        "    y = y_pred.copy().squeeze()\n",
        "    y[y > 0.5] = 1.0\n",
        "    y[y <= 0.5] = 0.0\n",
        "    return np.mean(y == y_test)"
      ],
      "metadata": {
        "id": "kkExCd3ndhiP"
      },
      "execution_count": null,
      "outputs": []
    },
    {
      "cell_type": "code",
      "source": [
        "# Apply model with w and b parameters on test data\n",
        "y_pred = ...\n",
        "print(f\"Accuracy: {accuracy(y_pred, y_test, threshold=0.5) * 100}%\")"
      ],
      "metadata": {
        "id": "CXJO9zHodsnf"
      },
      "execution_count": null,
      "outputs": []
    },
    {
      "cell_type": "markdown",
      "source": [
        "### Question: conclude on the model's performance, and comment the plots.\n",
        "\n",
        "### Question (bonus): change the training loop to perform mini batch stochastic gradient descent.\n",
        "\n",
        "That means gradient is computed only on small \"batches\" (pieces) of data at a time. Dataset is randomly cut into small pieces at the begining of every epochs, and gradient descent is performed on every pieces (batches) of data during the epoch.\n",
        "\n",
        "This adds a for-loop in the algorithm above:\n",
        "\n",
        "```python\n",
        "batch_size = 100 # max number of samples in a batch, for instance, 100\n",
        "\n",
        "for epoch in epochs:\n",
        "\n",
        "    batches = ... # randomly cut the dataset in batches of size batch_size\n",
        "\n",
        "    for batch in batches:\n",
        "\n",
        "        # forward, loss, backward and gradient descent on each batch.\n",
        "```"
      ],
      "metadata": {
        "id": "Cy5mc8WWaJhe"
      }
    },
    {
      "cell_type": "markdown",
      "source": [
        "## Second model: Multilayer perceptron (2 layers)\n",
        "\n",
        "The network is now defined by four successive operations:\n",
        "\n",
        "- Layer 1 (input to hidden layer):\n",
        "$$\\mathbf{z_1} = \\mathbf{x} \\cdot \\mathbf{W_1} + \\mathbf{b_1}$$\n",
        "$$\\mathbf{h} = \\tanh(\\mathbf{z_1})$$\n",
        "\n",
        "- Layer 2 (hidden to output layer):\n",
        "$$\\mathbf{z_2} = \\mathbf{h} \\cdot \\mathbf{W_2} + \\mathbf{b_2}$$\n",
        "$$\\mathbf{y} = sigmoid(\\mathbf{z_2})$$\n",
        "\n",
        "As before, all parameters ($\\mathbf{W_1},  \\mathbf{b_1}, \\mathbf{W_2}, \\mathbf{b_2}$) are randomly initialized.\n",
        "\n",
        "Gradient descent algorithm can be applied using the same equations as above, but with two more derivation steps:\n",
        "\n",
        "- Gradient with regard to parameters of layer 2 (same as before):\n",
        "\n",
        "$$\\nabla_\\mathbf{w_2} (\\mathcal{L}) = \\frac{\\partial\\mathcal{L}}{\\partial \\mathbf{y}} \\times \\frac{\\partial \\mathbf{y}}{\\partial \\mathbf{z_2}} \\cdot \\frac{\\partial \\mathbf{z_2}}{\\partial \\mathbf{w_2}}$$\n",
        "\n",
        "$$\\nabla_\\mathbf{b_2} (\\mathcal{L}) = \\frac{\\partial\\mathcal{L}}{\\partial \\mathbf{y}} \\times \\frac{\\partial \\mathbf{y}}{\\partial \\mathbf{z_2}} \\cdot \\frac{\\partial \\mathbf{z_2}}{\\partial \\mathbf{b_2}}$$\n",
        "\n",
        "- Gradient with regard to parameters of layer 1 (going one layer deeper than above):\n",
        "\n",
        "$$\\nabla_\\mathbf{w_1} (\\mathcal{L}) = \\frac{\\partial\\mathcal{L}}{\\partial \\mathbf{y}} \\times \\frac{\\partial \\mathbf{y}}{\\partial \\mathbf{z_2}} \\cdot \\frac{\\partial \\mathbf{z_2}}{\\partial \\mathbf{h}} \\times \\frac{\\partial \\mathbf{h}}{\\partial \\mathbf{z_1}} \\cdot \\frac{\\partial \\mathbf{z_1}}{\\partial \\mathbf{w_1}} $$\n",
        "\n",
        "$$\\nabla_\\mathbf{b_1} (\\mathcal{L}) = \\frac{\\partial\\mathcal{L}}{\\partial \\mathbf{y}} \\times \\frac{\\partial \\mathbf{y}}{\\partial \\mathbf{z_2}} \\cdot \\frac{\\partial \\mathbf{z_2}}{\\partial \\mathbf{h}} \\times \\frac{\\partial \\mathbf{h}}{\\partial \\mathbf{z_1}} \\cdot \\frac{\\partial \\mathbf{z_1}}{\\partial \\mathbf{b_1}} $$"
      ],
      "metadata": {
        "id": "O0y3FEY65jv_"
      }
    },
    {
      "cell_type": "code",
      "source": [
        "input_shape = X_train.shape[1]  # X dimensions (here, 2)\n",
        "output_shape = 1  # one neuron output\n",
        "\n",
        "loss_values = []\n",
        "y_preds = []\n",
        "\n",
        "#--- PARAMETERS and HYPERPARAMETERS ---\n",
        "\n",
        "hidden_neurons = 3  # 3 hidden neurons\n",
        "\n",
        "# some random weights to start with\n",
        "w1, b1 = create_layer(input_shape, hidden_neurons)\n",
        "w2, b2 = create_layer(hidden_neurons, output_shape)\n",
        "\n",
        "# Number of epochs (iterations of gradient descent)\n",
        "n_epochs = 500\n",
        "\n",
        "# Learning rate\n",
        "lr = 0.01\n",
        "\n",
        "for epoch in range(n_epochs):\n",
        "\n",
        "   #--- PREDICTION (FORWARD PASS) ---\n",
        "\n",
        "    #--- Layer 0: X_train ---\n",
        "    # Nothing to do here, X_train virtually enters the network.\n",
        "\n",
        "    #--- Layer 1 (input to hidden layer) ---\n",
        "    # z1 = w1 . x + b1\n",
        "    z1 = ...\n",
        "    # h = tanh(z1)\n",
        "    h = ...\n",
        "\n",
        "    #--- Layer 2 (hidden to output layer) ---\n",
        "    # z2 = w2 . h + b2\n",
        "    z2 = ...\n",
        "    # y = sigmoid(z2)\n",
        "    y = ...\n",
        "\n",
        "    #--- Loss: L(y_true, y) ---\n",
        "    loss = binary_crossentropy(y_train, y)\n",
        "\n",
        "    y_preds.append(y)\n",
        "\n",
        "    # Record loss before updating\n",
        "    loss_values.append(loss)\n",
        "\n",
        "    #--- BACK PROPAGATION (BACKWARD PASS) ---\n",
        "\n",
        "    # All gradients and derivatives are marked\n",
        "    # with \"df/dx\" notation.\n",
        "    # Note that this is not rigorous for gradients\n",
        "    # however.\n",
        "\n",
        "    #--- Loss ---\n",
        "\n",
        "    # dL/dy\n",
        "    dL_dy = d_binary_crossentropy(y_train, y)\n",
        "\n",
        "    #--- Layer 2 ---\n",
        "\n",
        "    # dL/dz2 = dL/dy * dy/dz2\n",
        "    dL_dz2 = ...\n",
        "\n",
        "    # \"dL/dw2\" (grad L/w2) = grad z2/w2 . dL/dz2\n",
        "    grad_z2_w2 = ...\n",
        "    grad_L_w2 = ...\n",
        "\n",
        "    # \"dL/db2\" (grad L/b2) = grad z2/b2 . dL/dz2\n",
        "    grad_z2_b2 = ...\n",
        "    grad_L_b2 = ...\n",
        "\n",
        "    #--- Layer 1 ---\n",
        "\n",
        "    # dL/dh = dL/dz2 . dz2/dh\n",
        "    dz2_dh = ...\n",
        "    dL_dh = ...\n",
        "\n",
        "    # dL/dz1 = dL/dh * dh/dz1\n",
        "    dL_dz1 = ...\n",
        "\n",
        "    # \"dL/dw1\" (grad L/w1) = grad z1/w1 . dL/dz1\n",
        "    grad_z1_w1 = ...\n",
        "    grad_L_w1 = ...\n",
        "\n",
        "    # \"dL/db1\" (grad L/b1) = grad z1/b1 . dL/dz1\n",
        "    grad_z1_b1 = ...\n",
        "    grad_L_b1 = ...\n",
        "\n",
        "\n",
        "    ##--- GRADIENT DESCENT ---\n",
        "\n",
        "    ..."
      ],
      "metadata": {
        "id": "WP4KloL27lEg"
      },
      "execution_count": null,
      "outputs": []
    },
    {
      "cell_type": "code",
      "source": [
        "plt.plot(loss_values)\n",
        "plt.ylabel(\"Loss\")\n",
        "plt.xlabel(\"Epoch\")"
      ],
      "metadata": {
        "id": "vfRrPWF8_Ld8"
      },
      "execution_count": null,
      "outputs": []
    },
    {
      "cell_type": "code",
      "source": [
        "x1 = np.linspace(-2.5, 2.5, 100)\n",
        "x2 = np.linspace(-1.5, 1.5, 100)\n",
        "\n",
        "X_grid = np.meshgrid(x1, x2)\n",
        "X_grid = np.concatenate([X_grid[0].reshape(-1, 1), X_grid[1].reshape(-1, 1)], axis=1)\n",
        "\n",
        "h = tanh(linear(X_grid, w1, b1))\n",
        "y_pred = sigmoid(linear(h, w2, b2))\n",
        "\n",
        "y_pred = y_pred.reshape(100, 100)\n",
        "\n",
        "plt.contourf(*np.meshgrid(x1, x2), y_pred, cmap=\"coolwarm\")\n",
        "plt.colorbar(label=\"Sigmoid activation value\")\n",
        "plt.scatter(X_test[:, 0], X_test[:, 1], c=y_test)\n",
        "plt.xlabel(\"Feature #0\")\n",
        "plt.ylabel(\"Feature #1\")\n",
        "plt.title(\"Output neuron activation for all data plane\")\n",
        "plt.show()"
      ],
      "metadata": {
        "id": "F_UN8ypVn1vp"
      },
      "execution_count": null,
      "outputs": []
    },
    {
      "cell_type": "code",
      "source": [
        "# Apply model with w1, b1, w2 and b2 parameters on test data\n",
        "y_pred = ...\n",
        "print(f\"Accuracy: {accuracy(y_pred, y_test, threshold=0.5) * 100}%\")"
      ],
      "metadata": {
        "id": "INp0ymXcqaUn"
      },
      "execution_count": null,
      "outputs": []
    },
    {
      "cell_type": "markdown",
      "source": [
        "## Going further: Make it clean, make it re-usable\n",
        "\n",
        "Now that we have defined the building blocks of any simple feed-forward multilayered neural network, let's pack it up into a nice Object Oriented code, using Python classes."
      ],
      "metadata": {
        "id": "5a3JPXtWq0fh"
      }
    },
    {
      "cell_type": "markdown",
      "source": [
        "### The `Layer` class\n",
        "\n",
        "A `Layer` applies one step of operation (like the linear transform or the activation function) on data of shape `(n_samples, n_features)`.\n",
        "\n",
        "It can also store some parameters (like $\\mathbf{w}$ and $\\mathbf{b}$), and compute its own gradient with regard to its parameters or to some inputs.\n",
        "\n",
        "### A note on Python classes\n",
        "\n",
        "They work exactly like C# classes. You can declare attributes and methods, create abstract classes, etc.\n",
        "\n",
        "A class constructor is always called `__init__`. It can accepts any kind of parameters. It is not mandatory to declare it (if you have no parameters to pass at construction of the instance, you can always create objects by calling the class like this: `Layer()`.).\n",
        "\n",
        "All methods (including `__init__`) must take as first parameter `self`. `self` behaves exactly like `this` in C#, but is mandatory within a class in Python as soon as you use an attribute or a method of the class.\n",
        "\n",
        "Inheritance from a class is declared with `class B(A)`, which means that class `B` inherits from class `A`."
      ],
      "metadata": {
        "id": "zWUdfiyVrU8U"
      }
    },
    {
      "cell_type": "code",
      "source": [
        "# Base abstract class\n",
        "class Layer:\n",
        "\n",
        "    def __init__(self):\n",
        "\n",
        "        # Will store all data that enters the layer\n",
        "        # (necessary to compute the gradient)\n",
        "        self.inputs = None\n",
        "\n",
        "    def forward(self, x):\n",
        "        \"\"\"Forward pass\"\"\"\n",
        "        raise NotImplementedError\n",
        "\n",
        "    def backward(self, x, dL):\n",
        "        \"\"\"Backward pass (backpropagation)\"\"\"\n",
        "        raise NotImplementedError\n",
        "\n",
        "    def update(self, lr):\n",
        "        \"\"\"Parameter update (gradient descent), if any. Else, just pass.\"\"\"\n",
        "        pass"
      ],
      "metadata": {
        "id": "HzQ-L_VIqipR"
      },
      "execution_count": null,
      "outputs": []
    },
    {
      "cell_type": "markdown",
      "source": [
        "### Dense layer\n",
        "\n",
        "This layer defines weights and biases between neurons and applies a linear transform.\n",
        "\n",
        "Its two main methods (`forward` and `backward`) implements both forward an backward path in a composable way: They can be chained to any other layer.\n",
        "\n",
        "#### Forward pass\n",
        "\n",
        "`forward` method implements the following mechanism, for any layer $l$ in the network:\n",
        "\n",
        "$$\\mathbf{z}^{(l)} = \\mathbf{x}^{(l-1)} \\cdot \\mathbf{W}^{(l)} + \\mathbf{b}^{(l)}$$\n",
        "\n",
        "where $\\mathbf{x}^{(l-1)}$ are the previous layer $l-1$ outputs (or the network inputs $\\mathbf{x}$ if $l$ is the first layer).\n",
        "\n",
        "Hence, `dense2.forward(dense1.forward(dense0.forward(x)))` would yield the output of a 3-layers perceptron (without activation function).\n",
        "\n",
        "In the following code, we will refer to $\\mathbf{x}^{(l-1)}$ using the `x` parameter in the `forward` function, meaning any kind of input entering the layer (from a previous layer or not).\n",
        "\n",
        "#### Backward pass\n",
        "\n",
        "Similarly, we can compute gradients in a composable way using the `backward` method.\n",
        "\n",
        "You may already have noticed that the more layers we add, the more we repeat the same operations during backpropagation. Let's consider we do not have any activation function for now in our network (adding them won't add to much complexity though):\n",
        "\n",
        "- Gradient with regard to parameters of layer $n$ (top layer):\n",
        "\n",
        "$$\\nabla_\\mathbf{w_n} (\\mathcal{L}) = \\frac{\\partial\\mathcal{L}}{\\partial \\mathbf{y}} \\cdot \\frac{\\partial \\mathbf{y}}{\\partial \\mathbf{w_n}}$$\n",
        "\n",
        "$$\\nabla_\\mathbf{b_n} (\\mathcal{L}) = \\frac{\\partial\\mathcal{L}}{\\partial \\mathbf{y}} \\cdot \\frac{\\partial \\mathbf{y}}{\\partial \\mathbf{b_n}}$$\n",
        "\n",
        "- Gradient with regard to inputs of layer $n$ (top layer), which are $z_{n-1}$, the outputs of layer $n-1$:\n",
        "\n",
        "$$\\nabla_\\mathbf{z_{n-1}} (\\mathcal{L}) = \\frac{\\partial\\mathcal{L}}{\\partial \\mathbf{y}} \\cdot \\frac{\\partial \\mathbf{y}}{\\partial \\mathbf{z_{n-1}}}$$\n",
        "\n",
        "We can therefore express gradient with regard to parameters of layer $n-1$ (one layer before) as:\n",
        "\n",
        "$$\\nabla_\\mathbf{w_{n-1}} (\\mathcal{L}) = \\nabla_\\mathbf{z_{n-1}} (\\mathcal{L}) \\cdot \\frac{\\partial \\mathbf{z_{n-1}}}{\\partial \\mathbf{w_{n-1}}} $$\n",
        "\n",
        "$$\\nabla_\\mathbf{b_{n-1}} (\\mathcal{L}) = \\nabla_\\mathbf{z_{n-1}} (\\mathcal{L}) \\cdot \\frac{\\partial \\mathbf{z_{n-1}}}{\\partial \\mathbf{b_{n-1}}} $$\n",
        "\n",
        "In fact, we just need every layer $n-1$ `backward` function to take as parameter the previously computed gradient $\\nabla_\\mathbf{z_{n-1}} (\\mathcal{L})$, to store the gradients it needs for the update step ($\\nabla_\\mathbf{w_{n-1}} (\\mathcal{L})$ and $\\nabla_\\mathbf{b_{n-1}} (\\mathcal{L})$) and to return the gradient for the next layer $n-2$, $\\nabla_\\mathbf{z_{n-2}} (\\mathcal{L})$.\n",
        "\n",
        "Hence, `dense0.backward(dense1.backward(dense2.backward(d_loss)))` would yield the gradients of a 3-layers perceptron (without activation function), given the loss gradient `d_loss` (notice how the order of the layer is inverted compared to the `forward` function).\n",
        "\n",
        "In the next code, we will refer to $\\nabla_\\mathbf{z_{n-1}} (\\mathcal{L})$ using the `dL` parameter of the backward function (roughly meaning \"the derivative of error coming from the loss and layers above\")."
      ],
      "metadata": {
        "id": "qT0OMFEstyz8"
      }
    },
    {
      "cell_type": "code",
      "source": [
        "class Dense(Layer):\n",
        "\n",
        "    def __init__(self, input_shape, output_shape):\n",
        "        super().__init__()  # call parent class constructor\n",
        "        # Now, self.inputs exists.\n",
        "\n",
        "        self.w, self.b = create_layer(input_shape, output_shape)\n",
        "\n",
        "        # gradients will be stored here between backward and update\n",
        "        self.grad_w = None\n",
        "        self.grad_b = None\n",
        "\n",
        "    def forward(self, x):\n",
        "        h = ...\n",
        "        self.inputs = x  # store inputs for gradient computation\n",
        "        return h\n",
        "\n",
        "    def backward(self, dL):\n",
        "\n",
        "        # compute all possible gradients\n",
        "        grad_z_w = d_linear(self.inputs, self.w, self.b, with_regard_to=\"w\")\n",
        "        grad_z_b = d_linear(self.inputs, self.w, self.b, with_regard_to=\"b\")\n",
        "        grad_z_x = d_linear(self.inputs, self.w, self.b, with_regard_to=\"x\")\n",
        "\n",
        "        # store gradients needed for update\n",
        "        self.grad_w = ...\n",
        "        self.grad_b = ...\n",
        "\n",
        "        # return error gradient for propagation to previous layers\n",
        "        return np.dot(dL, grad_z_x)\n",
        "\n",
        "    def update(self, lr):\n",
        "        self.w = ...\n",
        "        self.b = ..."
      ],
      "metadata": {
        "id": "UynyTz5Qtw5w"
      },
      "execution_count": null,
      "outputs": []
    },
    {
      "cell_type": "markdown",
      "source": [
        "### Sigmoid and Tanh layers\n",
        "\n",
        "These layers apply some activation function of data.\n",
        "\n",
        "We define their `forward` and `backward` function is a similar way as for the `Dense` layer. `forward` applies the function on any inputs `x` (for instance, outputs from a previous layer). `backward` computes gradients with regard to the inputs of the function and the previously accumulated gradient `dL`. This is overall the exact same operations as in the training loop defined earlier."
      ],
      "metadata": {
        "id": "5mSZ2kWJu29f"
      }
    },
    {
      "cell_type": "code",
      "source": [
        "class Tanh(Layer):\n",
        "\n",
        "    def forward(self, x):\n",
        "        ...\n",
        "\n",
        "    def backward(self, dL):\n",
        "        ..."
      ],
      "metadata": {
        "id": "z43iR7AsuoeO"
      },
      "execution_count": null,
      "outputs": []
    },
    {
      "cell_type": "code",
      "source": [
        "class Sigmoid(Layer):\n",
        "\n",
        "    def forward(self, x):\n",
        "        ...\n",
        "\n",
        "    def backward(self, dL):\n",
        "        ..."
      ],
      "metadata": {
        "id": "yrhAo9Yiweif"
      },
      "execution_count": null,
      "outputs": []
    },
    {
      "cell_type": "markdown",
      "source": [
        "### The `Model` class\n",
        "\n",
        "This class will hold all layers in one place, and perform the full forward,backward, and update steps.\n",
        "\n",
        "Now that we have defined our layers in a way that we can compose them, let's create a final class that will hold everything together. The forward pass of a `Model` is now just the succession of foward operations of all layers in that `Model`, from first layer to last, given some input data.\n",
        "\n",
        "Similarly, the backward pass is the succession of backward operations of all layers from last to first, given some loss gradient.\n",
        "\n",
        "Both computations can be performed within simple for-loops iterating over the layers list:\n",
        "\n",
        "```python\n",
        "# Forward pass of whole model\n",
        "for layer in layers:\n",
        "    y = layer(x)\n",
        "    x = y  # pass output to next layer\n",
        "```\n",
        "\n",
        "```python\n",
        "# Backward pass of whole model\n",
        "\n",
        "# reverse layers now, to go from top to bottom layers!\n",
        "for layer in reversed(layers):\n",
        "    dL_next = layer(dL)\n",
        "    dL = dL_next  # pass gradient to previous layer\n",
        "```\n",
        "\n"
      ],
      "metadata": {
        "id": "-kfxZ3Fqw1GF"
      }
    },
    {
      "cell_type": "code",
      "source": [
        "class Model:\n",
        "\n",
        "    def __init__(self, layers):\n",
        "        self.layers = layers\n",
        "\n",
        "    def forward(self, x):\n",
        "\n",
        "        # Call all layers one after the other,\n",
        "        # from bottom layers to top layers.\n",
        "        ...\n",
        "\n",
        "        return y\n",
        "\n",
        "    def backward(self, dL):\n",
        "\n",
        "        # Pass gradient from top layers to bottom layers.\n",
        "        for layer in reversed(self.layers): # reverse layer order\n",
        "            ...\n",
        "\n",
        "    def update(self, lr):\n",
        "\n",
        "        for layer in self.layers:\n",
        "            layer.update(lr)"
      ],
      "metadata": {
        "id": "5EtX-NZ7xGQa"
      },
      "execution_count": null,
      "outputs": []
    },
    {
      "cell_type": "code",
      "source": [
        "# Create a n layer perceptron (2 to begin with)\n",
        "model = ..."
      ],
      "metadata": {
        "id": "p9CLPBLX2sBa"
      },
      "execution_count": null,
      "outputs": []
    },
    {
      "cell_type": "code",
      "source": [
        "# Training loop with the model object\n",
        "n_epochs = 100\n",
        "lr = 0.01\n",
        "loss_values = []\n",
        "\n",
        "for epoch in range(n_epochs):\n",
        "\n",
        "    # Forward pass\n",
        "    y_pred = ...\n",
        "\n",
        "    # Loss\n",
        "    loss = ...\n",
        "    loss_values.append(loss)\n",
        "\n",
        "    # Loss gradient\n",
        "    dL = ...\n",
        "\n",
        "    # Backward pass\n",
        "    ...\n",
        "\n",
        "    # Parameters update\n",
        "    ..."
      ],
      "metadata": {
        "id": "I4hRsjI321W6"
      },
      "execution_count": null,
      "outputs": []
    },
    {
      "cell_type": "code",
      "source": [
        "plt.plot(loss_values)\n",
        "plt.ylabel(\"Loss\")\n",
        "plt.xlabel(\"Epoch\")"
      ],
      "metadata": {
        "id": "758aM0HY42ZC"
      },
      "execution_count": null,
      "outputs": []
    },
    {
      "cell_type": "code",
      "source": [
        "x1 = np.linspace(-2.5, 2.5, 100)\n",
        "x2 = np.linspace(-1.5, 1.5, 100)\n",
        "\n",
        "X_grid = np.meshgrid(x1, x2)\n",
        "X_grid = np.concatenate([X_grid[0].reshape(-1, 1), X_grid[1].reshape(-1, 1)], axis=1)\n",
        "\n",
        "# Calling the whole network is much easier now!\n",
        "y_pred = model.forward(X_grid)\n",
        "\n",
        "y_pred = y_pred.reshape(100, 100)\n",
        "\n",
        "plt.contourf(*np.meshgrid(x1, x2), y_pred, cmap=\"coolwarm\")\n",
        "plt.colorbar(label=\"Sigmoid activation value\")\n",
        "plt.scatter(X_test[:, 0], X_test[:, 1], c=y_test)\n",
        "plt.xlabel(\"Feature #0\")\n",
        "plt.ylabel(\"Feature #1\")\n",
        "plt.title(\"Output neuron activation for all data plane\")\n",
        "plt.show()"
      ],
      "metadata": {
        "id": "0hDV1GoWYvGH"
      },
      "execution_count": null,
      "outputs": []
    },
    {
      "cell_type": "code",
      "source": [
        "# Apply model forward method to make predictions on test data\n",
        "y_pred = ...\n",
        "print(f\"Accuracy: {accuracy(y_pred, y_test, threshold=0.5) * 100}%\")"
      ],
      "metadata": {
        "id": "gANgiW2jkddA"
      },
      "execution_count": null,
      "outputs": []
    },
    {
      "cell_type": "markdown",
      "source": [
        "### Question (bonus): Apply your `Model` on more complex datasets (like we did in other TDs).\n",
        "\n",
        "For instance, go back to the Titanic or Fashion-MNIST datasets and try you own tools on it (you may need to create new activation functions like softmax and new losses! cf. Crossentropy section)\n",
        "\n",
        "### Question (bonus): Make a visualization of what is happening in the first layer of your two layered perceptron (maybe we can look at the loss landscape for a couple parameters only ?) Try to spot the local minima."
      ],
      "metadata": {
        "id": "V4vmsb45kuya"
      }
    }
  ]
}